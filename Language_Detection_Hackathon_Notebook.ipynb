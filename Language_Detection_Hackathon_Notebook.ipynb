{
  "cells": [
    {
      "cell_type": "markdown",
      "metadata": {
        "id": "view-in-github",
        "colab_type": "text"
      },
      "source": [
        "<a href=\"https://colab.research.google.com/github/kxmohelo/Language-Identification/blob/main/Language_Detection_Hackathon_Notebook.ipynb\" target=\"_parent\"><img src=\"https://colab.research.google.com/assets/colab-badge.svg\" alt=\"Open In Colab\"/></a>"
      ]
    },
    {
      "cell_type": "markdown",
      "metadata": {
        "id": "3e77222e"
      },
      "source": [
        "## 1. Importing Packages\n",
        "Import all the python libraries that we will use in the notebook"
      ],
      "id": "3e77222e"
    },
    {
      "cell_type": "code",
      "execution_count": 167,
      "id": "5cb100ed",
      "metadata": {
        "pycharm": {
          "name": "#%%\n"
        },
        "id": "5cb100ed"
      },
      "outputs": [],
      "source": [
        "# Libraries for data loading, data manipulation and data visulisation\n",
        "import pandas as pd\n",
        "import numpy as np\n",
        "import matplotlib.pyplot as plt\n",
        "%matplotlib inline\n",
        "import seaborn as sns\n",
        "\n",
        "# Libraries for data preparation\n",
        "import string\n",
        "import math\n",
        "import nltk\n",
        "import re\n",
        "import csv\n",
        "import urllib\n",
        "\n",
        "from sklearn.linear_model import LinearRegression\n",
        "from sklearn import metrics \n",
        "from sklearn.tree import DecisionTreeRegressor\n",
        "from sklearn.metrics import accuracy_score\n",
        "from sklearn.metrics import mean_squared_error as MSE\n",
        "from sklearn.ensemble import RandomForestRegressor\n",
        "from sklearn.metrics import r2_score\n",
        "from sklearn.preprocessing import StandardScaler\n",
        "from statsmodels.graphics.correlation import plot_corr\n",
        "import statsmodels.formula.api as sm\n",
        "from statsmodels.formula.api import ols\n",
        "from scipy.stats import pearsonr\n",
        "from nltk.tokenize import word_tokenize, TreebankWordTokenizer\n",
        "from nltk import SnowballStemmer\n",
        "from nltk.corpus import stopwords\n",
        "import plotly.figure_factory as ff\n",
        "from collections import Counter\n",
        "import plotly.express as px\n",
        "from nltk.corpus import stopwords\n",
        "\n",
        "# Libraries for model building\n",
        "from sklearn.model_selection import train_test_split\n",
        "import tensorflow as tf\n",
        "import scipy.sparse\n",
        "from sklearn.model_selection import GridSearchCV\n",
        "from sklearn.ensemble import RandomForestClassifier\n",
        "import xgboost as xgb\n",
        "from sklearn.linear_model import LogisticRegression\n",
        "from sklearn.svm import SVC\n",
        "from sklearn.svm import LinearSVC\n",
        "from sklearn.naive_bayes import MultinomialNB\n",
        "from sklearn.neighbors import KNeighborsClassifier\n",
        "from sklearn.tree import DecisionTreeClassifier\n",
        "from sklearn.metrics import accuracy_score\n",
        "from sklearn import metrics\n",
        "from sklearn.pipeline import Pipeline\n",
        "from sklearn.neural_network import MLPClassifier\n",
        "from nltk.stem import WordNetLemmatizer\n",
        "from sklearn.feature_extraction.text import TfidfVectorizer\n",
        "from sklearn.metrics import classification_report, confusion_matrix, f1_score, precision_score, recall_score\n",
        "\n",
        "# set plot style\n",
        "sns.set()\n",
        "\n",
        "#Mute warnings\n",
        "import warnings\n",
        "warnings.simplefilter(action=\"ignore\", category=FutureWarning)"
      ]
    },
    {
      "cell_type": "markdown",
      "source": [
        "## 2. Loading the data"
      ],
      "metadata": {
        "id": "_jjnNJZbiX6Q"
      },
      "id": "_jjnNJZbiX6Q"
    },
    {
      "cell_type": "code",
      "execution_count": 168,
      "id": "bad83fe6",
      "metadata": {
        "pycharm": {
          "name": "#%%\n"
        },
        "id": "bad83fe6"
      },
      "outputs": [],
      "source": [
        "df = pd.read_csv('train_set.csv')"
      ]
    },
    {
      "cell_type": "markdown",
      "source": [
        "## 3. Exploratory Data Analysis (EDA)"
      ],
      "metadata": {
        "id": "pAcd7MJBikv3"
      },
      "id": "pAcd7MJBikv3"
    },
    {
      "cell_type": "code",
      "execution_count": 169,
      "id": "a9b8a878",
      "metadata": {
        "pycharm": {
          "name": "#%%\n"
        },
        "colab": {
          "base_uri": "https://localhost:8080/",
          "height": 206
        },
        "id": "a9b8a878",
        "outputId": "7679df00-6c14-41a6-ecdd-5e495db3556f"
      },
      "outputs": [
        {
          "output_type": "execute_result",
          "data": {
            "text/plain": [
              "  lang_id                                               text\n",
              "0     xho  umgaqo-siseko wenza amalungiselelo kumaziko ax...\n",
              "1     xho  i-dha iya kuba nobulumko bokubeka umsebenzi na...\n",
              "2     eng  the province of kwazulu-natal department of tr...\n",
              "3     nso  o netefatša gore o ba file dilo ka moka tše le...\n",
              "4     ven  khomishini ya ndinganyiso ya mbeu yo ewa maana..."
            ],
            "text/html": [
              "\n",
              "  <div id=\"df-12d10dff-8d51-4ed5-8d24-b6d4440f1ce3\">\n",
              "    <div class=\"colab-df-container\">\n",
              "      <div>\n",
              "<style scoped>\n",
              "    .dataframe tbody tr th:only-of-type {\n",
              "        vertical-align: middle;\n",
              "    }\n",
              "\n",
              "    .dataframe tbody tr th {\n",
              "        vertical-align: top;\n",
              "    }\n",
              "\n",
              "    .dataframe thead th {\n",
              "        text-align: right;\n",
              "    }\n",
              "</style>\n",
              "<table border=\"1\" class=\"dataframe\">\n",
              "  <thead>\n",
              "    <tr style=\"text-align: right;\">\n",
              "      <th></th>\n",
              "      <th>lang_id</th>\n",
              "      <th>text</th>\n",
              "    </tr>\n",
              "  </thead>\n",
              "  <tbody>\n",
              "    <tr>\n",
              "      <th>0</th>\n",
              "      <td>xho</td>\n",
              "      <td>umgaqo-siseko wenza amalungiselelo kumaziko ax...</td>\n",
              "    </tr>\n",
              "    <tr>\n",
              "      <th>1</th>\n",
              "      <td>xho</td>\n",
              "      <td>i-dha iya kuba nobulumko bokubeka umsebenzi na...</td>\n",
              "    </tr>\n",
              "    <tr>\n",
              "      <th>2</th>\n",
              "      <td>eng</td>\n",
              "      <td>the province of kwazulu-natal department of tr...</td>\n",
              "    </tr>\n",
              "    <tr>\n",
              "      <th>3</th>\n",
              "      <td>nso</td>\n",
              "      <td>o netefatša gore o ba file dilo ka moka tše le...</td>\n",
              "    </tr>\n",
              "    <tr>\n",
              "      <th>4</th>\n",
              "      <td>ven</td>\n",
              "      <td>khomishini ya ndinganyiso ya mbeu yo ewa maana...</td>\n",
              "    </tr>\n",
              "  </tbody>\n",
              "</table>\n",
              "</div>\n",
              "      <button class=\"colab-df-convert\" onclick=\"convertToInteractive('df-12d10dff-8d51-4ed5-8d24-b6d4440f1ce3')\"\n",
              "              title=\"Convert this dataframe to an interactive table.\"\n",
              "              style=\"display:none;\">\n",
              "        \n",
              "  <svg xmlns=\"http://www.w3.org/2000/svg\" height=\"24px\"viewBox=\"0 0 24 24\"\n",
              "       width=\"24px\">\n",
              "    <path d=\"M0 0h24v24H0V0z\" fill=\"none\"/>\n",
              "    <path d=\"M18.56 5.44l.94 2.06.94-2.06 2.06-.94-2.06-.94-.94-2.06-.94 2.06-2.06.94zm-11 1L8.5 8.5l.94-2.06 2.06-.94-2.06-.94L8.5 2.5l-.94 2.06-2.06.94zm10 10l.94 2.06.94-2.06 2.06-.94-2.06-.94-.94-2.06-.94 2.06-2.06.94z\"/><path d=\"M17.41 7.96l-1.37-1.37c-.4-.4-.92-.59-1.43-.59-.52 0-1.04.2-1.43.59L10.3 9.45l-7.72 7.72c-.78.78-.78 2.05 0 2.83L4 21.41c.39.39.9.59 1.41.59.51 0 1.02-.2 1.41-.59l7.78-7.78 2.81-2.81c.8-.78.8-2.07 0-2.86zM5.41 20L4 18.59l7.72-7.72 1.47 1.35L5.41 20z\"/>\n",
              "  </svg>\n",
              "      </button>\n",
              "      \n",
              "  <style>\n",
              "    .colab-df-container {\n",
              "      display:flex;\n",
              "      flex-wrap:wrap;\n",
              "      gap: 12px;\n",
              "    }\n",
              "\n",
              "    .colab-df-convert {\n",
              "      background-color: #E8F0FE;\n",
              "      border: none;\n",
              "      border-radius: 50%;\n",
              "      cursor: pointer;\n",
              "      display: none;\n",
              "      fill: #1967D2;\n",
              "      height: 32px;\n",
              "      padding: 0 0 0 0;\n",
              "      width: 32px;\n",
              "    }\n",
              "\n",
              "    .colab-df-convert:hover {\n",
              "      background-color: #E2EBFA;\n",
              "      box-shadow: 0px 1px 2px rgba(60, 64, 67, 0.3), 0px 1px 3px 1px rgba(60, 64, 67, 0.15);\n",
              "      fill: #174EA6;\n",
              "    }\n",
              "\n",
              "    [theme=dark] .colab-df-convert {\n",
              "      background-color: #3B4455;\n",
              "      fill: #D2E3FC;\n",
              "    }\n",
              "\n",
              "    [theme=dark] .colab-df-convert:hover {\n",
              "      background-color: #434B5C;\n",
              "      box-shadow: 0px 1px 3px 1px rgba(0, 0, 0, 0.15);\n",
              "      filter: drop-shadow(0px 1px 2px rgba(0, 0, 0, 0.3));\n",
              "      fill: #FFFFFF;\n",
              "    }\n",
              "  </style>\n",
              "\n",
              "      <script>\n",
              "        const buttonEl =\n",
              "          document.querySelector('#df-12d10dff-8d51-4ed5-8d24-b6d4440f1ce3 button.colab-df-convert');\n",
              "        buttonEl.style.display =\n",
              "          google.colab.kernel.accessAllowed ? 'block' : 'none';\n",
              "\n",
              "        async function convertToInteractive(key) {\n",
              "          const element = document.querySelector('#df-12d10dff-8d51-4ed5-8d24-b6d4440f1ce3');\n",
              "          const dataTable =\n",
              "            await google.colab.kernel.invokeFunction('convertToInteractive',\n",
              "                                                     [key], {});\n",
              "          if (!dataTable) return;\n",
              "\n",
              "          const docLinkHtml = 'Like what you see? Visit the ' +\n",
              "            '<a target=\"_blank\" href=https://colab.research.google.com/notebooks/data_table.ipynb>data table notebook</a>'\n",
              "            + ' to learn more about interactive tables.';\n",
              "          element.innerHTML = '';\n",
              "          dataTable['output_type'] = 'display_data';\n",
              "          await google.colab.output.renderOutput(dataTable, element);\n",
              "          const docLink = document.createElement('div');\n",
              "          docLink.innerHTML = docLinkHtml;\n",
              "          element.appendChild(docLink);\n",
              "        }\n",
              "      </script>\n",
              "    </div>\n",
              "  </div>\n",
              "  "
            ]
          },
          "metadata": {},
          "execution_count": 169
        }
      ],
      "source": [
        "df.head()"
      ]
    },
    {
      "cell_type": "code",
      "source": [
        "df.shape"
      ],
      "metadata": {
        "colab": {
          "base_uri": "https://localhost:8080/"
        },
        "id": "7DgZjGhHm7KJ",
        "outputId": "3b3dd8ee-d0f0-46ca-8946-86c7eab467c4"
      },
      "id": "7DgZjGhHm7KJ",
      "execution_count": 170,
      "outputs": [
        {
          "output_type": "execute_result",
          "data": {
            "text/plain": [
              "(33000, 2)"
            ]
          },
          "metadata": {},
          "execution_count": 170
        }
      ]
    },
    {
      "cell_type": "code",
      "source": [
        "df.info()"
      ],
      "metadata": {
        "colab": {
          "base_uri": "https://localhost:8080/"
        },
        "id": "bdz1IjWznZFl",
        "outputId": "f54bce78-7d08-4588-a229-1352f2f9f201"
      },
      "id": "bdz1IjWznZFl",
      "execution_count": 171,
      "outputs": [
        {
          "output_type": "stream",
          "name": "stdout",
          "text": [
            "<class 'pandas.core.frame.DataFrame'>\n",
            "RangeIndex: 33000 entries, 0 to 32999\n",
            "Data columns (total 2 columns):\n",
            " #   Column   Non-Null Count  Dtype \n",
            "---  ------   --------------  ----- \n",
            " 0   lang_id  33000 non-null  object\n",
            " 1   text     33000 non-null  object\n",
            "dtypes: object(2)\n",
            "memory usage: 515.8+ KB\n"
          ]
        }
      ]
    },
    {
      "cell_type": "code",
      "source": [
        "df.lang_id.value_counts()"
      ],
      "metadata": {
        "colab": {
          "base_uri": "https://localhost:8080/"
        },
        "id": "0gg48KbVnzVw",
        "outputId": "d763267d-b3a5-482f-be84-78fafed28cf9"
      },
      "id": "0gg48KbVnzVw",
      "execution_count": 172,
      "outputs": [
        {
          "output_type": "execute_result",
          "data": {
            "text/plain": [
              "xho    3000\n",
              "eng    3000\n",
              "nso    3000\n",
              "ven    3000\n",
              "tsn    3000\n",
              "nbl    3000\n",
              "zul    3000\n",
              "ssw    3000\n",
              "tso    3000\n",
              "sot    3000\n",
              "afr    3000\n",
              "Name: lang_id, dtype: int64"
            ]
          },
          "metadata": {},
          "execution_count": 172
        }
      ]
    },
    {
      "cell_type": "code",
      "source": [
        "df.duplicated()"
      ],
      "metadata": {
        "colab": {
          "base_uri": "https://localhost:8080/"
        },
        "id": "_lOzTPLspSdb",
        "outputId": "a8efcb7f-794d-43ac-9dd2-cf5ef23de64b"
      },
      "id": "_lOzTPLspSdb",
      "execution_count": 173,
      "outputs": [
        {
          "output_type": "execute_result",
          "data": {
            "text/plain": [
              "0        False\n",
              "1        False\n",
              "2        False\n",
              "3        False\n",
              "4        False\n",
              "         ...  \n",
              "32995    False\n",
              "32996     True\n",
              "32997    False\n",
              "32998    False\n",
              "32999    False\n",
              "Length: 33000, dtype: bool"
            ]
          },
          "metadata": {},
          "execution_count": 173
        }
      ]
    },
    {
      "cell_type": "code",
      "execution_count": 174,
      "metadata": {
        "id": "f39364f7",
        "outputId": "4e5b3f1c-47d8-45a3-d5da-f851fac1f666",
        "colab": {
          "base_uri": "https://localhost:8080/",
          "height": 427
        }
      },
      "outputs": [
        {
          "output_type": "execute_result",
          "data": {
            "text/plain": [
              "Text(0.5, 0, 'Language')"
            ]
          },
          "metadata": {},
          "execution_count": 174
        },
        {
          "output_type": "display_data",
          "data": {
            "text/plain": [
              "<Figure size 864x432 with 1 Axes>"
            ],
            "image/png": "[encoded data removed]"
          },
          "metadata": {}
        }
      ],
      "source": [
        "plt.figure (figsize= (12,6))\n",
        "language_distribution = pd.DataFrame(list(df.lang_id.value_counts()),\n",
        "                          index= df.lang_id.unique(),\n",
        "                          columns=['Count'])\n",
        "sns.set()\n",
        "sns.barplot(x=language_distribution.index, y=language_distribution.Count, \n",
        "           palette=\"Blues_r\")\n",
        "plt.title('Language Identification based on text')\n",
        "plt.xlabel('Language')"
      ],
      "id": "f39364f7"
    },
    {
      "cell_type": "markdown",
      "source": [
        "## Text Cleaning"
      ],
      "metadata": {
        "id": "2l9pZL9bjJMm"
      },
      "id": "2l9pZL9bjJMm"
    },
    {
      "cell_type": "markdown",
      "source": [
        "### Clean text column"
      ],
      "metadata": {
        "id": "Gnz7pt_PjpDq"
      },
      "id": "Gnz7pt_PjpDq"
    },
    {
      "cell_type": "code",
      "execution_count": 175,
      "id": "6884f095",
      "metadata": {
        "pycharm": {
          "name": "#%%\n"
        },
        "id": "6884f095"
      },
      "outputs": [],
      "source": [
        "# Define function to clean text\n",
        "\n",
        "def clean_text(text):\n",
        "    text = re.sub(r'http[s]?://(?:[A-Za-z]|[0-9]|[$-_@.&+]|[!*\\(\\),]|(?:%[0-9A-Fa-f][0-9A-Fa-f]))+','web-url',text) # Removing hyperlinks\n",
        "    text = re.sub(r' +',' ',text) # Removing extra whitespaces\n",
        "    text.lower()\n",
        "    return text\n",
        "\n",
        "  # pattern_url = r'http[s]?://(?:[A-Za-z]|[0-9]|[$-_@.&+]|[!*\\(\\),]|(?:%[0-9A-Fa-f][0-9A-Fa-f]))+'\n",
        "  # subs_url = r'url-web'\n",
        "  # df['text'] = df['text'].replace(to_replace = pattern_url, value = subs_url, regex = True)"
      ]
    },
    {
      "cell_type": "code",
      "execution_count": 176,
      "id": "ae65bd34",
      "metadata": {
        "pycharm": {
          "name": "#%%\n"
        },
        "id": "ae65bd34"
      },
      "outputs": [],
      "source": [
        "# Define function that cleans punctuation\n",
        "def clean_punctuation(text):\n",
        "    translator = str.maketrans('', '', string.punctuation)\n",
        "    return text.translate(translator)"
      ]
    },
    {
      "cell_type": "code",
      "execution_count": 177,
      "id": "f3bb5170",
      "metadata": {
        "pycharm": {
          "name": "#%%\n"
        },
        "id": "f3bb5170"
      },
      "outputs": [],
      "source": [
        "# clean df text\n",
        "df.text = df.text.apply(clean_text)\n",
        "\n",
        "# clean text punctuation\n",
        "df.text = df.text.apply(clean_punctuation)"
      ]
    },
    {
      "cell_type": "code",
      "source": [
        "df.text[100]"
      ],
      "metadata": {
        "colab": {
          "base_uri": "https://localhost:8080/",
          "height": 52
        },
        "id": "RC8aOE1UsMe3",
        "outputId": "564bbdfb-e660-41f1-804a-d6a5f773210f"
      },
      "id": "RC8aOE1UsMe3",
      "execution_count": 178,
      "outputs": [
        {
          "output_type": "execute_result",
          "data": {
            "text/plain": [
              "'u anganelana na sisiteme dza nivho sa tsumbo ndivho ya ngwaniwapo i shumiswa yo angana na thekhinolodzhi ya tshizwinozwino ya bayothekhinolodzhi kha zwa mishonga na dziwe sekhitha kha u engedzedza tshiimo tsha vhubveledzi'"
            ],
            "application/vnd.google.colaboratory.intrinsic+json": {
              "type": "string"
            }
          },
          "metadata": {},
          "execution_count": 178
        }
      ]
    },
    {
      "cell_type": "code",
      "source": [
        "# create a copy of the df\n",
        "df_copy = df.copy()"
      ],
      "metadata": {
        "id": "5Kfq9lOSuERu"
      },
      "id": "5Kfq9lOSuERu",
      "execution_count": 179,
      "outputs": []
    },
    {
      "cell_type": "markdown",
      "source": [
        "#### Tokenize"
      ],
      "metadata": {
        "id": "m9twXwiytx3w"
      },
      "id": "m9twXwiytx3w"
    },
    {
      "cell_type": "code",
      "execution_count": 180,
      "metadata": {
        "id": "56b4d750"
      },
      "outputs": [],
      "source": [
        "tokeniser = TreebankWordTokenizer()\n",
        "df_copy['tokens'] = df_copy.text.apply(tokeniser.tokenize)"
      ],
      "id": "56b4d750"
    },
    {
      "cell_type": "markdown",
      "source": [
        "#### Stemming"
      ],
      "metadata": {
        "id": "sViEuMoau-6H"
      },
      "id": "sViEuMoau-6H"
    },
    {
      "cell_type": "code",
      "execution_count": 181,
      "metadata": {
        "id": "983f7a33"
      },
      "outputs": [],
      "source": [
        "stemmer = SnowballStemmer('english')\n",
        "def df_stemmer(words, stemmer):\n",
        "    return [stemmer.stem(word) for word in words]"
      ],
      "id": "983f7a33"
    },
    {
      "cell_type": "code",
      "source": [
        "df_copy['stem'] = df_copy.tokens.apply(df_stemmer, args=(stemmer, ))"
      ],
      "metadata": {
        "id": "yxat19nNvJ1C"
      },
      "id": "yxat19nNvJ1C",
      "execution_count": 182,
      "outputs": []
    },
    {
      "cell_type": "code",
      "execution_count": 183,
      "metadata": {
        "colab": {
          "base_uri": "https://localhost:8080/"
        },
        "id": "95483db5",
        "outputId": "5c8b7f55-7bba-4e21-d42d-178651706af9"
      },
      "outputs": [
        {
          "output_type": "stream",
          "name": "stdout",
          "text": [
            "izilumkiso           --> izilumkiso\n",
            "ezibhalwe            --> ezibhalw  \n",
            "phantsi              --> phantsi   \n",
            "kwimeko              --> kwimeko   \n",
            "apho                 --> apho      \n",
            "imo                  --> imo       \n",
            "yokuziphatha         --> yokuziphatha\n",
            "kakubi               --> kakubi    \n",
            "engokuxhalasileyo    --> engokuxhalasileyo\n",
            "igunyazisa           --> igunyazisa\n",
            "ngokunikwa           --> ngokunikwa\n",
            "kwamacebo            --> kwamacebo \n",
            "ngezilumkiso         --> ngezilumkiso\n",
            "ezibhalwe            --> ezibhalw  \n",
            "phantsi              --> phantsi   \n",
            "umphathi             --> umphathi  \n",
            "wabaqeshwa           --> wabaqeshwa\n",
            "unokunika            --> unokunika \n",
            "isilumkiso           --> isilumkiso\n",
            "esibhalwe            --> esibhalw  \n",
            "phantsi              --> phantsi   \n"
          ]
        }
      ],
      "source": [
        "for i, t in enumerate(df_copy.iloc[8702]['tokens']):    \n",
        "    print ('{:20s} --> {:10s}'.format(t, df_copy.iloc[8702]['stem'][i]))"
      ],
      "id": "95483db5"
    },
    {
      "cell_type": "code",
      "source": [
        "import nltk\n",
        "nltk.download('wordnet')\n",
        "nltk.download('omw-1.4')"
      ],
      "metadata": {
        "colab": {
          "base_uri": "https://localhost:8080/"
        },
        "id": "fY8KqbFQvvsu",
        "outputId": "0a2fa009-020a-4ac2-e4ac-3778feec3b29"
      },
      "id": "fY8KqbFQvvsu",
      "execution_count": 184,
      "outputs": [
        {
          "output_type": "stream",
          "name": "stderr",
          "text": [
            "[nltk_data] Downloading package wordnet to /root/nltk_data...\n",
            "[nltk_data]   Package wordnet is already up-to-date!\n",
            "[nltk_data] Downloading package omw-1.4 to /root/nltk_data...\n",
            "[nltk_data]   Package omw-1.4 is already up-to-date!\n"
          ]
        },
        {
          "output_type": "execute_result",
          "data": {
            "text/plain": [
              "True"
            ]
          },
          "metadata": {},
          "execution_count": 184
        }
      ]
    },
    {
      "cell_type": "markdown",
      "source": [
        "#### Lemmatization"
      ],
      "metadata": {
        "id": "-Bj4asSFwV7P"
      },
      "id": "-Bj4asSFwV7P"
    },
    {
      "cell_type": "code",
      "execution_count": 185,
      "metadata": {
        "id": "174e7ab5"
      },
      "outputs": [],
      "source": [
        "lemmatizer = WordNetLemmatizer()\n",
        "def df_lemma(words, lemmatizer):\n",
        "    return [lemmatizer.lemmatize(word) for word in words]"
      ],
      "id": "174e7ab5"
    },
    {
      "cell_type": "code",
      "source": [
        "df_copy['lemma'] = df_copy.tokens.apply(df_lemma, args=(lemmatizer, ))"
      ],
      "metadata": {
        "id": "i07A5-vxwwBC"
      },
      "execution_count": 186,
      "outputs": [],
      "id": "i07A5-vxwwBC"
    },
    {
      "cell_type": "code",
      "source": [
        "df_copy.head()"
      ],
      "metadata": {
        "colab": {
          "base_uri": "https://localhost:8080/",
          "height": 337
        },
        "id": "l0d_rZFCxCzb",
        "outputId": "fbae88ac-ab90-4171-e829-8bf1d76e9281"
      },
      "id": "l0d_rZFCxCzb",
      "execution_count": 187,
      "outputs": [
        {
          "output_type": "execute_result",
          "data": {
            "text/plain": [
              "  lang_id                                               text  \\\n",
              "0     xho  umgaqosiseko wenza amalungiselelo kumaziko axh...   \n",
              "1     xho  idha iya kuba nobulumko bokubeka umsebenzi nap...   \n",
              "2     eng  the province of kwazulunatal department of tra...   \n",
              "3     nso  o netefatša gore o ba file dilo ka moka tše le...   \n",
              "4     ven  khomishini ya ndinganyiso ya mbeu yo ewa maana...   \n",
              "\n",
              "                                              tokens  \\\n",
              "0  [umgaqosiseko, wenza, amalungiselelo, kumaziko...   \n",
              "1  [idha, iya, kuba, nobulumko, bokubeka, umseben...   \n",
              "2  [the, province, of, kwazulunatal, department, ...   \n",
              "3  [o, netefatša, gore, o, ba, file, dilo, ka, mo...   \n",
              "4  [khomishini, ya, ndinganyiso, ya, mbeu, yo, ew...   \n",
              "\n",
              "                                                stem  \\\n",
              "0  [umgaqosiseko, wenza, amalungiselelo, kumaziko...   \n",
              "1  [idha, iya, kuba, nobulumko, bokubeka, umseben...   \n",
              "2  [the, provinc, of, kwazulunat, depart, of, tra...   \n",
              "3  [o, netefatša, gore, o, ba, file, dilo, ka, mo...   \n",
              "4  [khomishini, ya, ndinganyiso, ya, mbeu, yo, ew...   \n",
              "\n",
              "                                               lemma  \n",
              "0  [umgaqosiseko, wenza, amalungiselelo, kumaziko...  \n",
              "1  [idha, iya, kuba, nobulumko, bokubeka, umseben...  \n",
              "2  [the, province, of, kwazulunatal, department, ...  \n",
              "3  [o, netefatša, gore, o, ba, file, dilo, ka, mo...  \n",
              "4  [khomishini, ya, ndinganyiso, ya, mbeu, yo, ew...  "
            ],
            "text/html": [
              "\n",
              "  <div id=\"df-47b4d604-08a7-4fed-8ece-cff31dd5def4\">\n",
              "    <div class=\"colab-df-container\">\n",
              "      <div>\n",
              "<style scoped>\n",
              "    .dataframe tbody tr th:only-of-type {\n",
              "        vertical-align: middle;\n",
              "    }\n",
              "\n",
              "    .dataframe tbody tr th {\n",
              "        vertical-align: top;\n",
              "    }\n",
              "\n",
              "    .dataframe thead th {\n",
              "        text-align: right;\n",
              "    }\n",
              "</style>\n",
              "<table border=\"1\" class=\"dataframe\">\n",
              "  <thead>\n",
              "    <tr style=\"text-align: right;\">\n",
              "      <th></th>\n",
              "      <th>lang_id</th>\n",
              "      <th>text</th>\n",
              "      <th>tokens</th>\n",
              "      <th>stem</th>\n",
              "      <th>lemma</th>\n",
              "    </tr>\n",
              "  </thead>\n",
              "  <tbody>\n",
              "    <tr>\n",
              "      <th>0</th>\n",
              "      <td>xho</td>\n",
              "      <td>umgaqosiseko wenza amalungiselelo kumaziko axh...</td>\n",
              "      <td>[umgaqosiseko, wenza, amalungiselelo, kumaziko...</td>\n",
              "      <td>[umgaqosiseko, wenza, amalungiselelo, kumaziko...</td>\n",
              "      <td>[umgaqosiseko, wenza, amalungiselelo, kumaziko...</td>\n",
              "    </tr>\n",
              "    <tr>\n",
              "      <th>1</th>\n",
              "      <td>xho</td>\n",
              "      <td>idha iya kuba nobulumko bokubeka umsebenzi nap...</td>\n",
              "      <td>[idha, iya, kuba, nobulumko, bokubeka, umseben...</td>\n",
              "      <td>[idha, iya, kuba, nobulumko, bokubeka, umseben...</td>\n",
              "      <td>[idha, iya, kuba, nobulumko, bokubeka, umseben...</td>\n",
              "    </tr>\n",
              "    <tr>\n",
              "      <th>2</th>\n",
              "      <td>eng</td>\n",
              "      <td>the province of kwazulunatal department of tra...</td>\n",
              "      <td>[the, province, of, kwazulunatal, department, ...</td>\n",
              "      <td>[the, provinc, of, kwazulunat, depart, of, tra...</td>\n",
              "      <td>[the, province, of, kwazulunatal, department, ...</td>\n",
              "    </tr>\n",
              "    <tr>\n",
              "      <th>3</th>\n",
              "      <td>nso</td>\n",
              "      <td>o netefatša gore o ba file dilo ka moka tše le...</td>\n",
              "      <td>[o, netefatša, gore, o, ba, file, dilo, ka, mo...</td>\n",
              "      <td>[o, netefatša, gore, o, ba, file, dilo, ka, mo...</td>\n",
              "      <td>[o, netefatša, gore, o, ba, file, dilo, ka, mo...</td>\n",
              "    </tr>\n",
              "    <tr>\n",
              "      <th>4</th>\n",
              "      <td>ven</td>\n",
              "      <td>khomishini ya ndinganyiso ya mbeu yo ewa maana...</td>\n",
              "      <td>[khomishini, ya, ndinganyiso, ya, mbeu, yo, ew...</td>\n",
              "      <td>[khomishini, ya, ndinganyiso, ya, mbeu, yo, ew...</td>\n",
              "      <td>[khomishini, ya, ndinganyiso, ya, mbeu, yo, ew...</td>\n",
              "    </tr>\n",
              "  </tbody>\n",
              "</table>\n",
              "</div>\n",
              "      <button class=\"colab-df-convert\" onclick=\"convertToInteractive('df-47b4d604-08a7-4fed-8ece-cff31dd5def4')\"\n",
              "              title=\"Convert this dataframe to an interactive table.\"\n",
              "              style=\"display:none;\">\n",
              "        \n",
              "  <svg xmlns=\"http://www.w3.org/2000/svg\" height=\"24px\"viewBox=\"0 0 24 24\"\n",
              "       width=\"24px\">\n",
              "    <path d=\"M0 0h24v24H0V0z\" fill=\"none\"/>\n",
              "    <path d=\"M18.56 5.44l.94 2.06.94-2.06 2.06-.94-2.06-.94-.94-2.06-.94 2.06-2.06.94zm-11 1L8.5 8.5l.94-2.06 2.06-.94-2.06-.94L8.5 2.5l-.94 2.06-2.06.94zm10 10l.94 2.06.94-2.06 2.06-.94-2.06-.94-.94-2.06-.94 2.06-2.06.94z\"/><path d=\"M17.41 7.96l-1.37-1.37c-.4-.4-.92-.59-1.43-.59-.52 0-1.04.2-1.43.59L10.3 9.45l-7.72 7.72c-.78.78-.78 2.05 0 2.83L4 21.41c.39.39.9.59 1.41.59.51 0 1.02-.2 1.41-.59l7.78-7.78 2.81-2.81c.8-.78.8-2.07 0-2.86zM5.41 20L4 18.59l7.72-7.72 1.47 1.35L5.41 20z\"/>\n",
              "  </svg>\n",
              "      </button>\n",
              "      \n",
              "  <style>\n",
              "    .colab-df-container {\n",
              "      display:flex;\n",
              "      flex-wrap:wrap;\n",
              "      gap: 12px;\n",
              "    }\n",
              "\n",
              "    .colab-df-convert {\n",
              "      background-color: #E8F0FE;\n",
              "      border: none;\n",
              "      border-radius: 50%;\n",
              "      cursor: pointer;\n",
              "      display: none;\n",
              "      fill: #1967D2;\n",
              "      height: 32px;\n",
              "      padding: 0 0 0 0;\n",
              "      width: 32px;\n",
              "    }\n",
              "\n",
              "    .colab-df-convert:hover {\n",
              "      background-color: #E2EBFA;\n",
              "      box-shadow: 0px 1px 2px rgba(60, 64, 67, 0.3), 0px 1px 3px 1px rgba(60, 64, 67, 0.15);\n",
              "      fill: #174EA6;\n",
              "    }\n",
              "\n",
              "    [theme=dark] .colab-df-convert {\n",
              "      background-color: #3B4455;\n",
              "      fill: #D2E3FC;\n",
              "    }\n",
              "\n",
              "    [theme=dark] .colab-df-convert:hover {\n",
              "      background-color: #434B5C;\n",
              "      box-shadow: 0px 1px 3px 1px rgba(0, 0, 0, 0.15);\n",
              "      filter: drop-shadow(0px 1px 2px rgba(0, 0, 0, 0.3));\n",
              "      fill: #FFFFFF;\n",
              "    }\n",
              "  </style>\n",
              "\n",
              "      <script>\n",
              "        const buttonEl =\n",
              "          document.querySelector('#df-47b4d604-08a7-4fed-8ece-cff31dd5def4 button.colab-df-convert');\n",
              "        buttonEl.style.display =\n",
              "          google.colab.kernel.accessAllowed ? 'block' : 'none';\n",
              "\n",
              "        async function convertToInteractive(key) {\n",
              "          const element = document.querySelector('#df-47b4d604-08a7-4fed-8ece-cff31dd5def4');\n",
              "          const dataTable =\n",
              "            await google.colab.kernel.invokeFunction('convertToInteractive',\n",
              "                                                     [key], {});\n",
              "          if (!dataTable) return;\n",
              "\n",
              "          const docLinkHtml = 'Like what you see? Visit the ' +\n",
              "            '<a target=\"_blank\" href=https://colab.research.google.com/notebooks/data_table.ipynb>data table notebook</a>'\n",
              "            + ' to learn more about interactive tables.';\n",
              "          element.innerHTML = '';\n",
              "          dataTable['output_type'] = 'display_data';\n",
              "          await google.colab.output.renderOutput(dataTable, element);\n",
              "          const docLink = document.createElement('div');\n",
              "          docLink.innerHTML = docLinkHtml;\n",
              "          element.appendChild(docLink);\n",
              "        }\n",
              "      </script>\n",
              "    </div>\n",
              "  </div>\n",
              "  "
            ]
          },
          "metadata": {},
          "execution_count": 187
        }
      ]
    },
    {
      "cell_type": "code",
      "execution_count": 188,
      "metadata": {
        "id": "f190fde3"
      },
      "outputs": [],
      "source": [
        "def combine(df):\n",
        "    df['lemma'] = [' '.join(map(str, l)) for l in df['lemma']]\n",
        "    return df"
      ],
      "id": "f190fde3"
    },
    {
      "cell_type": "code",
      "execution_count": 189,
      "metadata": {
        "id": "2655b3f5"
      },
      "outputs": [],
      "source": [
        "df2 = combine(df_copy)\n",
        "df2 = df2.drop(['tokens', 'stem'], axis=1)\n",
        "df2.head()\n",
        "df = df2"
      ],
      "id": "2655b3f5"
    },
    {
      "cell_type": "code",
      "execution_count": 190,
      "id": "6d0d1c5a",
      "metadata": {
        "pycharm": {
          "name": "#%%\n"
        },
        "id": "6d0d1c5a"
      },
      "outputs": [],
      "source": [
        "X = df[\"text\"]\n",
        "y = df[\"lang_id\"]"
      ]
    },
    {
      "cell_type": "code",
      "execution_count": 191,
      "id": "6a13e967",
      "metadata": {
        "pycharm": {
          "name": "#%%\n"
        },
        "colab": {
          "base_uri": "https://localhost:8080/"
        },
        "id": "6a13e967",
        "outputId": "7ca42d00-7485-48cf-c876-60812bde3de3"
      },
      "outputs": [
        {
          "output_type": "execute_result",
          "data": {
            "text/plain": [
              "(33000,)"
            ]
          },
          "metadata": {},
          "execution_count": 191
        }
      ],
      "source": [
        "X.shape"
      ]
    },
    {
      "cell_type": "code",
      "execution_count": 192,
      "id": "15762164",
      "metadata": {
        "pycharm": {
          "name": "#%%\n"
        },
        "id": "15762164"
      },
      "outputs": [],
      "source": [
        "X_train, X_test, y_train, y_test = train_test_split(X, y, test_size=0.1, random_state=42)"
      ]
    },
    {
      "cell_type": "code",
      "execution_count": 193,
      "id": "49bae1ac",
      "metadata": {
        "pycharm": {
          "name": "#%%\n"
        },
        "id": "49bae1ac"
      },
      "outputs": [],
      "source": [
        "from sklearn.feature_extraction.text import TfidfVectorizer\n",
        "\n",
        "from sklearn import metrics\n",
        "from sklearn.metrics import classification_report, confusion_matrix, f1_score, precision_score, recall_score"
      ]
    },
    {
      "cell_type": "code",
      "execution_count": 194,
      "id": "bd52d4fb",
      "metadata": {
        "pycharm": {
          "name": "#%%\n"
        },
        "colab": {
          "base_uri": "https://localhost:8080/"
        },
        "id": "bd52d4fb",
        "outputId": "0677a020-efc0-480e-c6ec-450bf9f6d05e"
      },
      "outputs": [
        {
          "output_type": "execute_result",
          "data": {
            "text/plain": [
              "<29700x136038 sparse matrix of type '<class 'numpy.float64'>'\n",
              "\twith 833314 stored elements in Compressed Sparse Row format>"
            ]
          },
          "metadata": {},
          "execution_count": 194
        }
      ],
      "source": [
        "vect = TfidfVectorizer()\n",
        "vect.fit_transform(X_train)"
      ]
    },
    {
      "cell_type": "code",
      "execution_count": 195,
      "id": "8e259b7b",
      "metadata": {
        "pycharm": {
          "name": "#%%\n"
        },
        "id": "8e259b7b"
      },
      "outputs": [],
      "source": [
        "from sklearn.svm import LinearSVC"
      ]
    },
    {
      "cell_type": "code",
      "execution_count": 196,
      "id": "b64fe367",
      "metadata": {
        "pycharm": {
          "name": "#%%\n"
        },
        "id": "b64fe367"
      },
      "outputs": [],
      "source": [
        "svc = LinearSVC()"
      ]
    },
    {
      "cell_type": "code",
      "execution_count": 197,
      "id": "6afea154",
      "metadata": {
        "pycharm": {
          "name": "#%%\n"
        },
        "id": "6afea154"
      },
      "outputs": [],
      "source": [
        "svc.fit(vect.transform(X_train), y_train)\n",
        "y_pred = svc.predict(vect.transform(X_test))"
      ]
    },
    {
      "cell_type": "code",
      "execution_count": 198,
      "id": "dec55566",
      "metadata": {
        "pycharm": {
          "name": "#%%\n"
        },
        "colab": {
          "base_uri": "https://localhost:8080/"
        },
        "id": "dec55566",
        "outputId": "99747407-55a0-4e5c-afd9-754d6099aa7d"
      },
      "outputs": [
        {
          "output_type": "stream",
          "name": "stdout",
          "text": [
            "              precision    recall  f1-score   support\n",
            "\n",
            "         afr       1.00      1.00      1.00       281\n",
            "         eng       1.00      1.00      1.00       297\n",
            "         nbl       1.00      0.99      1.00       327\n",
            "         nso       1.00      0.99      1.00       322\n",
            "         sot       1.00      1.00      1.00       307\n",
            "         ssw       0.99      1.00      0.99       286\n",
            "         tsn       1.00      1.00      1.00       297\n",
            "         tso       1.00      1.00      1.00       253\n",
            "         ven       1.00      1.00      1.00       322\n",
            "         xho       0.99      1.00      1.00       313\n",
            "         zul       0.99      0.99      0.99       295\n",
            "\n",
            "    accuracy                           1.00      3300\n",
            "   macro avg       1.00      1.00      1.00      3300\n",
            "weighted avg       1.00      1.00      1.00      3300\n",
            "\n"
          ]
        }
      ],
      "source": [
        "print(metrics.classification_report(y_test, y_pred))"
      ]
    },
    {
      "cell_type": "code",
      "execution_count": 199,
      "id": "28f8ccd8",
      "metadata": {
        "pycharm": {
          "name": "#%%\n"
        },
        "colab": {
          "base_uri": "https://localhost:8080/",
          "height": 206
        },
        "id": "28f8ccd8",
        "outputId": "c094989e-4c1b-4cc6-9bab-a6dabd249897"
      },
      "outputs": [
        {
          "output_type": "execute_result",
          "data": {
            "text/plain": [
              "   index                                               text\n",
              "0      1  Mmasepala, fa maemo a a kgethegileng a letlele...\n",
              "1      2  Uzakwaziswa ngokufaneleko nakungafuneka eminye...\n",
              "2      3         Tshivhumbeo tshi fana na ngano dza vhathu.\n",
              "3      4  Kube inja nelikati betingevakala kutsi titsini...\n",
              "4      5                      Winste op buitelandse valuta."
            ],
            "text/html": [
              "\n",
              "  <div id=\"df-d43e97b5-da0c-42fa-8da8-250778d9962f\">\n",
              "    <div class=\"colab-df-container\">\n",
              "      <div>\n",
              "<style scoped>\n",
              "    .dataframe tbody tr th:only-of-type {\n",
              "        vertical-align: middle;\n",
              "    }\n",
              "\n",
              "    .dataframe tbody tr th {\n",
              "        vertical-align: top;\n",
              "    }\n",
              "\n",
              "    .dataframe thead th {\n",
              "        text-align: right;\n",
              "    }\n",
              "</style>\n",
              "<table border=\"1\" class=\"dataframe\">\n",
              "  <thead>\n",
              "    <tr style=\"text-align: right;\">\n",
              "      <th></th>\n",
              "      <th>index</th>\n",
              "      <th>text</th>\n",
              "    </tr>\n",
              "  </thead>\n",
              "  <tbody>\n",
              "    <tr>\n",
              "      <th>0</th>\n",
              "      <td>1</td>\n",
              "      <td>Mmasepala, fa maemo a a kgethegileng a letlele...</td>\n",
              "    </tr>\n",
              "    <tr>\n",
              "      <th>1</th>\n",
              "      <td>2</td>\n",
              "      <td>Uzakwaziswa ngokufaneleko nakungafuneka eminye...</td>\n",
              "    </tr>\n",
              "    <tr>\n",
              "      <th>2</th>\n",
              "      <td>3</td>\n",
              "      <td>Tshivhumbeo tshi fana na ngano dza vhathu.</td>\n",
              "    </tr>\n",
              "    <tr>\n",
              "      <th>3</th>\n",
              "      <td>4</td>\n",
              "      <td>Kube inja nelikati betingevakala kutsi titsini...</td>\n",
              "    </tr>\n",
              "    <tr>\n",
              "      <th>4</th>\n",
              "      <td>5</td>\n",
              "      <td>Winste op buitelandse valuta.</td>\n",
              "    </tr>\n",
              "  </tbody>\n",
              "</table>\n",
              "</div>\n",
              "      <button class=\"colab-df-convert\" onclick=\"convertToInteractive('df-d43e97b5-da0c-42fa-8da8-250778d9962f')\"\n",
              "              title=\"Convert this dataframe to an interactive table.\"\n",
              "              style=\"display:none;\">\n",
              "        \n",
              "  <svg xmlns=\"http://www.w3.org/2000/svg\" height=\"24px\"viewBox=\"0 0 24 24\"\n",
              "       width=\"24px\">\n",
              "    <path d=\"M0 0h24v24H0V0z\" fill=\"none\"/>\n",
              "    <path d=\"M18.56 5.44l.94 2.06.94-2.06 2.06-.94-2.06-.94-.94-2.06-.94 2.06-2.06.94zm-11 1L8.5 8.5l.94-2.06 2.06-.94-2.06-.94L8.5 2.5l-.94 2.06-2.06.94zm10 10l.94 2.06.94-2.06 2.06-.94-2.06-.94-.94-2.06-.94 2.06-2.06.94z\"/><path d=\"M17.41 7.96l-1.37-1.37c-.4-.4-.92-.59-1.43-.59-.52 0-1.04.2-1.43.59L10.3 9.45l-7.72 7.72c-.78.78-.78 2.05 0 2.83L4 21.41c.39.39.9.59 1.41.59.51 0 1.02-.2 1.41-.59l7.78-7.78 2.81-2.81c.8-.78.8-2.07 0-2.86zM5.41 20L4 18.59l7.72-7.72 1.47 1.35L5.41 20z\"/>\n",
              "  </svg>\n",
              "      </button>\n",
              "      \n",
              "  <style>\n",
              "    .colab-df-container {\n",
              "      display:flex;\n",
              "      flex-wrap:wrap;\n",
              "      gap: 12px;\n",
              "    }\n",
              "\n",
              "    .colab-df-convert {\n",
              "      background-color: #E8F0FE;\n",
              "      border: none;\n",
              "      border-radius: 50%;\n",
              "      cursor: pointer;\n",
              "      display: none;\n",
              "      fill: #1967D2;\n",
              "      height: 32px;\n",
              "      padding: 0 0 0 0;\n",
              "      width: 32px;\n",
              "    }\n",
              "\n",
              "    .colab-df-convert:hover {\n",
              "      background-color: #E2EBFA;\n",
              "      box-shadow: 0px 1px 2px rgba(60, 64, 67, 0.3), 0px 1px 3px 1px rgba(60, 64, 67, 0.15);\n",
              "      fill: #174EA6;\n",
              "    }\n",
              "\n",
              "    [theme=dark] .colab-df-convert {\n",
              "      background-color: #3B4455;\n",
              "      fill: #D2E3FC;\n",
              "    }\n",
              "\n",
              "    [theme=dark] .colab-df-convert:hover {\n",
              "      background-color: #434B5C;\n",
              "      box-shadow: 0px 1px 3px 1px rgba(0, 0, 0, 0.15);\n",
              "      filter: drop-shadow(0px 1px 2px rgba(0, 0, 0, 0.3));\n",
              "      fill: #FFFFFF;\n",
              "    }\n",
              "  </style>\n",
              "\n",
              "      <script>\n",
              "        const buttonEl =\n",
              "          document.querySelector('#df-d43e97b5-da0c-42fa-8da8-250778d9962f button.colab-df-convert');\n",
              "        buttonEl.style.display =\n",
              "          google.colab.kernel.accessAllowed ? 'block' : 'none';\n",
              "\n",
              "        async function convertToInteractive(key) {\n",
              "          const element = document.querySelector('#df-d43e97b5-da0c-42fa-8da8-250778d9962f');\n",
              "          const dataTable =\n",
              "            await google.colab.kernel.invokeFunction('convertToInteractive',\n",
              "                                                     [key], {});\n",
              "          if (!dataTable) return;\n",
              "\n",
              "          const docLinkHtml = 'Like what you see? Visit the ' +\n",
              "            '<a target=\"_blank\" href=https://colab.research.google.com/notebooks/data_table.ipynb>data table notebook</a>'\n",
              "            + ' to learn more about interactive tables.';\n",
              "          element.innerHTML = '';\n",
              "          dataTable['output_type'] = 'display_data';\n",
              "          await google.colab.output.renderOutput(dataTable, element);\n",
              "          const docLink = document.createElement('div');\n",
              "          docLink.innerHTML = docLinkHtml;\n",
              "          element.appendChild(docLink);\n",
              "        }\n",
              "      </script>\n",
              "    </div>\n",
              "  </div>\n",
              "  "
            ]
          },
          "metadata": {},
          "execution_count": 199
        }
      ],
      "source": [
        "df_test = pd.read_csv('test_set.csv')\n",
        "df_test.head()"
      ]
    },
    {
      "cell_type": "code",
      "execution_count": 200,
      "id": "3c269900",
      "metadata": {
        "pycharm": {
          "name": "#%%\n"
        },
        "id": "3c269900"
      },
      "outputs": [],
      "source": [
        "df_test['text'] = df_test['text'].str.lower()"
      ]
    },
    {
      "cell_type": "code",
      "execution_count": 201,
      "id": "b5c0c8c9",
      "metadata": {
        "pycharm": {
          "name": "#%%\n"
        },
        "id": "b5c0c8c9"
      },
      "outputs": [],
      "source": [
        "X = df_test['text']"
      ]
    },
    {
      "cell_type": "code",
      "execution_count": 202,
      "id": "cf55300a",
      "metadata": {
        "pycharm": {
          "name": "#%%\n"
        },
        "colab": {
          "base_uri": "https://localhost:8080/"
        },
        "id": "cf55300a",
        "outputId": "cc658c3e-e988-4c39-a772-fc478a34e555"
      },
      "outputs": [
        {
          "output_type": "execute_result",
          "data": {
            "text/plain": [
              "(5682,)"
            ]
          },
          "metadata": {},
          "execution_count": 202
        }
      ],
      "source": [
        "X.shape"
      ]
    },
    {
      "cell_type": "code",
      "execution_count": 203,
      "id": "fc297aed",
      "metadata": {
        "pycharm": {
          "name": "#%%\n"
        },
        "id": "fc297aed"
      },
      "outputs": [],
      "source": [
        "pred = svc.predict(vect.transform(X))"
      ]
    },
    {
      "cell_type": "code",
      "execution_count": 204,
      "id": "42c12707",
      "metadata": {
        "pycharm": {
          "name": "#%%\n"
        },
        "colab": {
          "base_uri": "https://localhost:8080/"
        },
        "id": "42c12707",
        "outputId": "f05de4e8-23a6-415a-bd45-2c68147fdb1d"
      },
      "outputs": [
        {
          "output_type": "execute_result",
          "data": {
            "text/plain": [
              "(5682,)"
            ]
          },
          "metadata": {},
          "execution_count": 204
        }
      ],
      "source": [
        "pred.shape"
      ]
    },
    {
      "cell_type": "code",
      "execution_count": 205,
      "id": "a4ab1d7e",
      "metadata": {
        "pycharm": {
          "name": "#%%\n"
        },
        "colab": {
          "base_uri": "https://localhost:8080/",
          "height": 206
        },
        "id": "a4ab1d7e",
        "outputId": "83626b68-de2e-435e-b64c-a1916732f827"
      },
      "outputs": [
        {
          "output_type": "execute_result",
          "data": {
            "text/plain": [
              "   index lang_id\n",
              "0      1     tsn\n",
              "1      2     nbl\n",
              "2      3     ven\n",
              "3      4     ssw\n",
              "4      5     afr"
            ],
            "text/html": [
              "\n",
              "  <div id=\"df-adc77e19-9494-4839-8910-c5ba07051e28\">\n",
              "    <div class=\"colab-df-container\">\n",
              "      <div>\n",
              "<style scoped>\n",
              "    .dataframe tbody tr th:only-of-type {\n",
              "        vertical-align: middle;\n",
              "    }\n",
              "\n",
              "    .dataframe tbody tr th {\n",
              "        vertical-align: top;\n",
              "    }\n",
              "\n",
              "    .dataframe thead th {\n",
              "        text-align: right;\n",
              "    }\n",
              "</style>\n",
              "<table border=\"1\" class=\"dataframe\">\n",
              "  <thead>\n",
              "    <tr style=\"text-align: right;\">\n",
              "      <th></th>\n",
              "      <th>index</th>\n",
              "      <th>lang_id</th>\n",
              "    </tr>\n",
              "  </thead>\n",
              "  <tbody>\n",
              "    <tr>\n",
              "      <th>0</th>\n",
              "      <td>1</td>\n",
              "      <td>tsn</td>\n",
              "    </tr>\n",
              "    <tr>\n",
              "      <th>1</th>\n",
              "      <td>2</td>\n",
              "      <td>nbl</td>\n",
              "    </tr>\n",
              "    <tr>\n",
              "      <th>2</th>\n",
              "      <td>3</td>\n",
              "      <td>ven</td>\n",
              "    </tr>\n",
              "    <tr>\n",
              "      <th>3</th>\n",
              "      <td>4</td>\n",
              "      <td>ssw</td>\n",
              "    </tr>\n",
              "    <tr>\n",
              "      <th>4</th>\n",
              "      <td>5</td>\n",
              "      <td>afr</td>\n",
              "    </tr>\n",
              "  </tbody>\n",
              "</table>\n",
              "</div>\n",
              "      <button class=\"colab-df-convert\" onclick=\"convertToInteractive('df-adc77e19-9494-4839-8910-c5ba07051e28')\"\n",
              "              title=\"Convert this dataframe to an interactive table.\"\n",
              "              style=\"display:none;\">\n",
              "        \n",
              "  <svg xmlns=\"http://www.w3.org/2000/svg\" height=\"24px\"viewBox=\"0 0 24 24\"\n",
              "       width=\"24px\">\n",
              "    <path d=\"M0 0h24v24H0V0z\" fill=\"none\"/>\n",
              "    <path d=\"M18.56 5.44l.94 2.06.94-2.06 2.06-.94-2.06-.94-.94-2.06-.94 2.06-2.06.94zm-11 1L8.5 8.5l.94-2.06 2.06-.94-2.06-.94L8.5 2.5l-.94 2.06-2.06.94zm10 10l.94 2.06.94-2.06 2.06-.94-2.06-.94-.94-2.06-.94 2.06-2.06.94z\"/><path d=\"M17.41 7.96l-1.37-1.37c-.4-.4-.92-.59-1.43-.59-.52 0-1.04.2-1.43.59L10.3 9.45l-7.72 7.72c-.78.78-.78 2.05 0 2.83L4 21.41c.39.39.9.59 1.41.59.51 0 1.02-.2 1.41-.59l7.78-7.78 2.81-2.81c.8-.78.8-2.07 0-2.86zM5.41 20L4 18.59l7.72-7.72 1.47 1.35L5.41 20z\"/>\n",
              "  </svg>\n",
              "      </button>\n",
              "      \n",
              "  <style>\n",
              "    .colab-df-container {\n",
              "      display:flex;\n",
              "      flex-wrap:wrap;\n",
              "      gap: 12px;\n",
              "    }\n",
              "\n",
              "    .colab-df-convert {\n",
              "      background-color: #E8F0FE;\n",
              "      border: none;\n",
              "      border-radius: 50%;\n",
              "      cursor: pointer;\n",
              "      display: none;\n",
              "      fill: #1967D2;\n",
              "      height: 32px;\n",
              "      padding: 0 0 0 0;\n",
              "      width: 32px;\n",
              "    }\n",
              "\n",
              "    .colab-df-convert:hover {\n",
              "      background-color: #E2EBFA;\n",
              "      box-shadow: 0px 1px 2px rgba(60, 64, 67, 0.3), 0px 1px 3px 1px rgba(60, 64, 67, 0.15);\n",
              "      fill: #174EA6;\n",
              "    }\n",
              "\n",
              "    [theme=dark] .colab-df-convert {\n",
              "      background-color: #3B4455;\n",
              "      fill: #D2E3FC;\n",
              "    }\n",
              "\n",
              "    [theme=dark] .colab-df-convert:hover {\n",
              "      background-color: #434B5C;\n",
              "      box-shadow: 0px 1px 3px 1px rgba(0, 0, 0, 0.15);\n",
              "      filter: drop-shadow(0px 1px 2px rgba(0, 0, 0, 0.3));\n",
              "      fill: #FFFFFF;\n",
              "    }\n",
              "  </style>\n",
              "\n",
              "      <script>\n",
              "        const buttonEl =\n",
              "          document.querySelector('#df-adc77e19-9494-4839-8910-c5ba07051e28 button.colab-df-convert');\n",
              "        buttonEl.style.display =\n",
              "          google.colab.kernel.accessAllowed ? 'block' : 'none';\n",
              "\n",
              "        async function convertToInteractive(key) {\n",
              "          const element = document.querySelector('#df-adc77e19-9494-4839-8910-c5ba07051e28');\n",
              "          const dataTable =\n",
              "            await google.colab.kernel.invokeFunction('convertToInteractive',\n",
              "                                                     [key], {});\n",
              "          if (!dataTable) return;\n",
              "\n",
              "          const docLinkHtml = 'Like what you see? Visit the ' +\n",
              "            '<a target=\"_blank\" href=https://colab.research.google.com/notebooks/data_table.ipynb>data table notebook</a>'\n",
              "            + ' to learn more about interactive tables.';\n",
              "          element.innerHTML = '';\n",
              "          dataTable['output_type'] = 'display_data';\n",
              "          await google.colab.output.renderOutput(dataTable, element);\n",
              "          const docLink = document.createElement('div');\n",
              "          docLink.innerHTML = docLinkHtml;\n",
              "          element.appendChild(docLink);\n",
              "        }\n",
              "      </script>\n",
              "    </div>\n",
              "  </div>\n",
              "  "
            ]
          },
          "metadata": {},
          "execution_count": 205
        }
      ],
      "source": [
        "df = pd.DataFrame(data=df_test['index'], columns=['index'])\n",
        "df.insert(1, 'lang_id', pred, allow_duplicates=False)\n",
        "\n",
        "df.head()"
      ]
    },
    {
      "cell_type": "code",
      "execution_count": 207,
      "id": "4b32ed8c",
      "metadata": {
        "pycharm": {
          "name": "#%%\n"
        },
        "id": "4b32ed8c"
      },
      "outputs": [],
      "source": [
        "pred_df.to_csv(path_or_buf='submit.csv', index=False)"
      ]
    }
  ],
  "metadata": {
    "kernelspec": {
      "display_name": "Python 3 (ipykernel)",
      "language": "python",
      "name": "python3"
    },
    "language_info": {
      "codemirror_mode": {
        "name": "ipython",
        "version": 3
      },
      "file_extension": ".py",
      "mimetype": "text/x-python",
      "name": "python",
      "nbconvert_exporter": "python",
      "pygments_lexer": "ipython3",
      "version": "3.8.8"
    },
    "colab": {
      "name": "Language Detection Hackathon Notebook.ipynb",
      "provenance": [],
      "collapsed_sections": [],
      "include_colab_link": true
    }
  },
  "nbformat": 4,
  "nbformat_minor": 5
}